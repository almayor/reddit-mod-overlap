{
 "cells": [
  {
   "cell_type": "code",
   "execution_count": 5,
   "id": "0c55d96f-cd02-4779-b3d9-fcca109dda57",
   "metadata": {},
   "outputs": [],
   "source": [
    "import logging\n",
    "from collections import defaultdict\n",
    "\n",
    "import networkx as nx\n",
    "import praw\n",
    "import pandas as pd\n",
    "import tqdm.notebook as tqdm\n",
    "from dotenv import load_dotenv\n",
    "from tinydb import TinyDB, Query"
   ]
  },
  {
   "cell_type": "code",
   "execution_count": 2,
   "id": "e7e9df0d-c6a6-4969-a259-66094fc856fe",
   "metadata": {},
   "outputs": [],
   "source": [
    "logging.basicConfig(level=logging.INFO)\n",
    "load_dotenv()\n",
    "\n",
    "Mod = Query()\n",
    "Bot = Query()\n",
    "Sub = Query()"
   ]
  },
  {
   "cell_type": "code",
   "execution_count": 5,
   "id": "408e06b7-6a75-4fb3-a97c-87dad90f4a1f",
   "metadata": {},
   "outputs": [],
   "source": [
    "KNOWN_BOTS = {\n",
    "    'mod-mentions',\n",
    "    'hive-protect',\n",
    "    'comment-nuke',\n",
    "    'purge-user',\n",
    "    'spam-nuke',\n",
    "    'modmail-userinfo',\n",
    "    'onedayflair',\n",
    "    'AutoModerator'\n",
    "}"
   ]
  },
  {
   "cell_type": "code",
   "execution_count": 6,
   "id": "289c54e4-3627-4fb9-a15a-8dbd8cbb35a8",
   "metadata": {},
   "outputs": [],
   "source": [
    "class Wanderer:\n",
    "\n",
    "    reddit = None\n",
    "    db_mods = None\n",
    "    db_bots = None\n",
    "    db_subs = None\n",
    "    \n",
    "    def __init__(self):\n",
    "        self.reddit = self.reddit or praw.Reddit(\n",
    "            client_id=os.getenv(\"CLIENT_ID\"),\n",
    "            client_secret=os.getenv(\"CLIENT_SECRET\"),\n",
    "            user_agent=os.getenv(\"USER_AGENT\"),\n",
    "            username=os.getenv(\"USER_NAME\"),\n",
    "            password=os.getenv(\"USER_PASS\")\n",
    "        )\n",
    "        self.db_mods = self.db_mods or TinyDB('mods.json')\n",
    "        self.db_bots = self.db_bots or TinyDB('bots.json')\n",
    "        self.db_subs = self.db_subs or TinyDB('subs.json')\n",
    "        \n",
    "        self.subs_searched = set()\n",
    "        self.mods_searched = set()\n",
    "\n",
    "\n",
    "    def get_sub_size(self, sub_name):\n",
    "        if not self.db_subs.search(Sub.name == sub_name):\n",
    "            nsubscr = self.reddit.subreddit(sub_name).subscribers\n",
    "            self.db_subs.insert({'name': sub_name, 'nsubscr': nsubscr})\n",
    "            return nsubscr\n",
    "        else:\n",
    "            return self.db_subs.search(Sub.name == sub_name)[0]['nsubscr']\n",
    "\n",
    "    \n",
    "    def wander(self, depth, start_sub_name=None, mods_queue=None, subs_queue=None):\n",
    "        self.mods_queue = mods_queue or []\n",
    "        self.subs_queue = subs_queue or []\n",
    "        if isinstance(start_sub_name, list):\n",
    "            self.subs_queue = [self.reddit.subreddit(s) for s in start_sub_name]\n",
    "        elif isinstance(start_sub_name, str):\n",
    "            self.subs_queue = [self.reddit.subreddit(start_sub_name)]\n",
    "\n",
    "        while depth >= 0:\n",
    "            for sub in tqdm.tqdm(self.subs_queue):\n",
    "                sub_name = sub.display_name\n",
    "                logging.info(f'Processing sub {sub_name}')\n",
    "                for mod in sub.moderator():\n",
    "                    mod_name = mod.name\n",
    "                    if self.is_bot(mod):\n",
    "                        logging.info(f'BOT: {mod_name}')\n",
    "                    elif mod_name not in self.mods_searched:\n",
    "                        self.mods_queue.append(mod)\n",
    "                        logging.info(f'Added mod {mod_name} to queue')\n",
    "                self.subs_searched.add(sub_name)\n",
    "            logging.info(f'{len(self.mods_queue)} mods in queue')\n",
    "            self.subs_queue = []\n",
    "\n",
    "            for mod in tqdm.tqdm(self.mods_queue):\n",
    "                mod_name = mod.name\n",
    "                logging.info(f'Processing mod {mod_name}')\n",
    "                for sub in mod.moderated():\n",
    "                    sub_name = sub.display_name\n",
    "                    if sub.subscribers < 1000:\n",
    "                        logging.info(f'TINY SUB: {sub_name}')\n",
    "                        continue\n",
    "                    if not (self.db_mods.search((Mod.mod == mod_name) & (Mod.sub == sub_name))):\n",
    "                        self.db_mods.insert({'mod': mod_name, 'sub': sub_name})\n",
    "                    if sub_name not in self.subs_searched:\n",
    "                        self.subs_queue.append(sub)\n",
    "                        logging.info(f'Added sub {sub_name} to queue')\n",
    "                self.mods_searched.add(mod_name)\n",
    "            logging.info(f'{len(self.subs_queue)} subs in queue')\n",
    "            self.mods_queue = []\n",
    "    \n",
    "            depth -= 1\n",
    "\n",
    "\n",
    "    def is_bot(self, mod):\n",
    "        mod_name = mod.name\n",
    "        if self.db_bots.search(Bot.name == mod_name):\n",
    "            return True\n",
    "        if mod_name.lower().startswith('bot'):\n",
    "            self.db_bots.insert({'name': mod_name})\n",
    "            return True\n",
    "        if mod_name.lower().endswith('bot'):\n",
    "            self.db_bots.insert({'name': mod_name})\n",
    "            return True\n",
    "        if mod_name in KNOWN_BOTS:\n",
    "            self.db_bots.insert({'name': mod_name})\n",
    "            return True\n",
    "        if len(mod.moderated()) > 500:\n",
    "            self.db_bots.insert({'bot': mod_name})\n",
    "            return True \n",
    "        return False\n",
    "            "
   ]
  },
  {
   "cell_type": "code",
   "execution_count": 7,
   "id": "fd50f83d-42e1-4ca0-a2aa-b5673e0ed1c4",
   "metadata": {},
   "outputs": [],
   "source": [
    "wanderer = Wanderer()\n",
    "# wanderer.wander(1, 'Palestine')"
   ]
  },
  {
   "cell_type": "code",
   "execution_count": 8,
   "id": "5a7b9215-66b9-4b0a-8d9b-4fc3ad4c6279",
   "metadata": {},
   "outputs": [
    {
     "name": "stdout",
     "output_type": "stream",
     "text": [
      "1265\n",
      "2078\n"
     ]
    }
   ],
   "source": [
    "df_mods = pd.DataFrame(wanderer.db_mods.all())\n",
    "print(df_mods['sub'].nunique())\n",
    "print(df_mods['sub'].count())"
   ]
  },
  {
   "cell_type": "code",
   "execution_count": 11,
   "id": "81e0a681-870b-40c4-b679-6d1deda443c1",
   "metadata": {},
   "outputs": [
    {
     "data": {
      "application/vnd.jupyter.widget-view+json": {
       "model_id": "edac694e99304e379797e6816b629894",
       "version_major": 2,
       "version_minor": 0
      },
      "text/plain": [
       "  0%|          | 0/1265 [00:00<?, ?it/s]"
      ]
     },
     "metadata": {},
     "output_type": "display_data"
    }
   ],
   "source": [
    "for sub in tqdm.tqdm(df_mods['sub'].unique()):\n",
    "    wanderer.get_sub_size(sub)"
   ]
  },
  {
   "cell_type": "code",
   "execution_count": 12,
   "id": "e2b73d5d-574f-4046-a29f-0329219830ea",
   "metadata": {},
   "outputs": [],
   "source": [
    "df_subs = pd.DataFrame(wanderer.db_subs.all())\n",
    "df_mods = df_mods.merge(df_subs, left_on='sub', right_on='name', how='left')"
   ]
  },
  {
   "cell_type": "code",
   "execution_count": 13,
   "id": "b9ed0962-afc4-415e-8113-48832993389c",
   "metadata": {},
   "outputs": [],
   "source": [
    "df_mods = df_mods[df_mods['nsubscr'] > 5000]"
   ]
  },
  {
   "cell_type": "code",
   "execution_count": 14,
   "id": "cac283de-b66e-43ac-a5b5-a56a2de06599",
   "metadata": {},
   "outputs": [
    {
     "name": "stdout",
     "output_type": "stream",
     "text": [
      "997\n",
      "1724\n"
     ]
    }
   ],
   "source": [
    "print(df_mods['sub'].nunique())\n",
    "print(df_mods['sub'].count())"
   ]
  },
  {
   "cell_type": "code",
   "execution_count": 16,
   "id": "feaafc69-2d1a-4b67-a4a5-d2678034c6b8",
   "metadata": {},
   "outputs": [],
   "source": [
    "df_nodes = df_mods.groupby('sub')['mod'].apply(list).reset_index()\n",
    "selected_subs = df_nodes[df_nodes['mod'].str.len() >= 5]['sub'].unique()\n",
    "len(selected_subs)"
   ]
  },
  {
   "cell_type": "code",
   "execution_count": 17,
   "id": "62c16cab-0056-427b-bf52-761d2f6e20d7",
   "metadata": {},
   "outputs": [],
   "source": [
    "filter = df_mods['sub'].isin(selected_subs)\n",
    "df_edges = df_mods[filter].groupby('mod')['sub'].apply(list).reset_index()"
   ]
  },
  {
   "cell_type": "code",
   "execution_count": 18,
   "id": "ab05a50b-4bc6-4f1f-8b00-56c418e4d6e9",
   "metadata": {},
   "outputs": [
    {
     "name": "stdout",
     "output_type": "stream",
     "text": [
      "295\n"
     ]
    },
    {
     "data": {
      "text/html": [
       "<div>\n",
       "<style scoped>\n",
       "    .dataframe tbody tr th:only-of-type {\n",
       "        vertical-align: middle;\n",
       "    }\n",
       "\n",
       "    .dataframe tbody tr th {\n",
       "        vertical-align: top;\n",
       "    }\n",
       "\n",
       "    .dataframe thead th {\n",
       "        text-align: right;\n",
       "    }\n",
       "</style>\n",
       "<table border=\"1\" class=\"dataframe\">\n",
       "  <thead>\n",
       "    <tr style=\"text-align: right;\">\n",
       "      <th></th>\n",
       "      <th>mod</th>\n",
       "      <th>sub</th>\n",
       "    </tr>\n",
       "  </thead>\n",
       "  <tbody>\n",
       "    <tr>\n",
       "      <th>0</th>\n",
       "      <td>--intifada--</td>\n",
       "      <td>[PublicFreakout]</td>\n",
       "    </tr>\n",
       "    <tr>\n",
       "      <th>1</th>\n",
       "      <td>002_timmy</td>\n",
       "      <td>[ConeHeads]</td>\n",
       "    </tr>\n",
       "    <tr>\n",
       "      <th>2</th>\n",
       "      <td>1080pfullhd-60fps</td>\n",
       "      <td>[therewasanattempt]</td>\n",
       "    </tr>\n",
       "    <tr>\n",
       "      <th>3</th>\n",
       "      <td>3olives</td>\n",
       "      <td>[Palestine]</td>\n",
       "    </tr>\n",
       "    <tr>\n",
       "      <th>4</th>\n",
       "      <td>4evrstreetmetalbitch</td>\n",
       "      <td>[MorbidReality, TalesFromYourServer, gratefuldoe]</td>\n",
       "    </tr>\n",
       "  </tbody>\n",
       "</table>\n",
       "</div>"
      ],
      "text/plain": [
       "                    mod                                                sub\n",
       "0          --intifada--                                   [PublicFreakout]\n",
       "1             002_timmy                                        [ConeHeads]\n",
       "2     1080pfullhd-60fps                                [therewasanattempt]\n",
       "3               3olives                                        [Palestine]\n",
       "4  4evrstreetmetalbitch  [MorbidReality, TalesFromYourServer, gratefuldoe]"
      ]
     },
     "execution_count": 18,
     "metadata": {},
     "output_type": "execute_result"
    }
   ],
   "source": [
    "print(len(df_edges))\n",
    "df_edges.head()"
   ]
  },
  {
   "cell_type": "code",
   "execution_count": 19,
   "id": "9d9acabd-9733-4592-b30b-9ec12a80614d",
   "metadata": {},
   "outputs": [
    {
     "data": {
      "application/vnd.jupyter.widget-view+json": {
       "model_id": "7b930a6c01194c80b967ea3ec385189b",
       "version_major": 2,
       "version_minor": 0
      },
      "text/plain": [
       "  0%|          | 0/295 [00:00<?, ?it/s]"
      ]
     },
     "metadata": {},
     "output_type": "display_data"
    }
   ],
   "source": [
    "edge_weight_dict = defaultdict(int)\n",
    "for _, row in tqdm.tqdm(df_edges.iterrows(), total=len(df_edges)):\n",
    "    if len(row['sub']) > 1:\n",
    "        mod = row['mod']\n",
    "        for i, sub1 in enumerate(row['sub']):\n",
    "            for sub2 in row['sub'][:i]:\n",
    "                key = (sub1, sub2) if sub1 < sub2 else (sub2, sub1)\n",
    "                edge_weight_dict[key] += 1 "
   ]
  },
  {
   "cell_type": "code",
   "execution_count": 20,
   "id": "95ee822b-0e85-40c7-9bd9-6206c3248b56",
   "metadata": {},
   "outputs": [],
   "source": [
    "g = nx.Graph()\n",
    "\n",
    "for _, row in df_subs[df_subs['name'].isin(selected_subs)].iterrows():\n",
    "    g.add_node(row['name'], size=row['nsubscr'])\n",
    "\n",
    "for (sub1, sub2), weight in edge_weight_dict.items():\n",
    "    g.add_edge(sub1, sub2, weight=weight)"
   ]
  },
  {
   "cell_type": "code",
   "execution_count": 21,
   "id": "d90a8bba-cec8-46e8-a9e0-e37b78d8e7d6",
   "metadata": {},
   "outputs": [],
   "source": [
    "nx.write_gexf(g, 'mods-palestine.gexf')"
   ]
  },
  {
   "cell_type": "code",
   "execution_count": null,
   "id": "c7158c53-42ad-40aa-a50c-87f6f9d4aa5d",
   "metadata": {},
   "outputs": [],
   "source": []
  }
 ],
 "metadata": {
  "kernelspec": {
   "display_name": "Python 3 (ipykernel)",
   "language": "python",
   "name": "python3"
  },
  "language_info": {
   "codemirror_mode": {
    "name": "ipython",
    "version": 3
   },
   "file_extension": ".py",
   "mimetype": "text/x-python",
   "name": "python",
   "nbconvert_exporter": "python",
   "pygments_lexer": "ipython3",
   "version": "3.10.11"
  },
  "toc": {
   "base_numbering": 1,
   "nav_menu": {},
   "number_sections": true,
   "sideBar": true,
   "skip_h1_title": false,
   "title_cell": "Table of Contents",
   "title_sidebar": "Contents",
   "toc_cell": false,
   "toc_position": {},
   "toc_section_display": true,
   "toc_window_display": false
  }
 },
 "nbformat": 4,
 "nbformat_minor": 5
}
